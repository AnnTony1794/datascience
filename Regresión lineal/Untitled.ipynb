{
 "cells": [
  {
   "cell_type": "markdown",
   "metadata": {},
   "source": [
    "# Regresión lineal"
   ]
  },
  {
   "cell_type": "markdown",
   "metadata": {},
   "source": [
    "## Creanto la tabla "
   ]
  },
  {
   "cell_type": "markdown",
   "metadata": {},
   "source": [
    "> La tabla muestra la relación área vs precio para la compra de \n",
    "> terreno, y se busca predecir el precio por 35 metros cuadrados."
   ]
  },
  {
   "cell_type": "markdown",
   "metadata": {},
   "source": [
    "| n | Metros cuadrados (x) | Precio (y)  |\n",
    "|---|:--------| :-----:|\n",
    "| 1 |   5     | 375    |\n",
    "| 2 |   15    | 487    |\n",
    "| 3 |   20    | 450    |\n",
    "| 4 |   25    | 500    |"
   ]
  },
  {
   "cell_type": "code",
   "execution_count": 20,
   "metadata": {},
   "outputs": [],
   "source": [
    "list_x = [5, 15, 20, 25]\n",
    "list_y = [375, 487, 450, 500]"
   ]
  },
  {
   "cell_type": "code",
   "execution_count": 21,
   "metadata": {},
   "outputs": [
    {
     "data": {
      "text/plain": [
       "[5, 15, 20, 25]"
      ]
     },
     "execution_count": 21,
     "metadata": {},
     "output_type": "execute_result"
    }
   ],
   "source": [
    "list_x"
   ]
  },
  {
   "cell_type": "code",
   "execution_count": 22,
   "metadata": {},
   "outputs": [
    {
     "data": {
      "text/plain": [
       "[375, 487, 450, 500]"
      ]
     },
     "execution_count": 22,
     "metadata": {},
     "output_type": "execute_result"
    }
   ],
   "source": [
    "list_y"
   ]
  },
  {
   "cell_type": "markdown",
   "metadata": {},
   "source": [
    "## Formula de predicción "
   ]
  },
  {
   "cell_type": "markdown",
   "metadata": {},
   "source": [
    "![](https://ingenioempresa.com/wp-content/uploads/2016/02/regresion-lineal-yabx.png)"
   ]
  },
  {
   "cell_type": "markdown",
   "metadata": {},
   "source": [
    "## Formula para cálcular la pendiente"
   ]
  },
  {
   "cell_type": "markdown",
   "metadata": {},
   "source": [
    "![](http://1.bp.blogspot.com/-MzmgHJY-EUI/TpP6_yIJ1FI/AAAAAAAAAAU/zfFRGsiXcXg/s1600/2.jpg)"
   ]
  },
  {
   "cell_type": "markdown",
   "metadata": {},
   "source": [
    "### Donde:\n",
    "* b: Es la pendiente.\n",
    "* n: Es el número de registros.\n",
    "* x: Es el la variable que se quiere predecir.\n",
    "* y: Es el dato que sabemos."
   ]
  },
  {
   "cell_type": "code",
   "execution_count": 35,
   "metadata": {},
   "outputs": [],
   "source": [
    "# Cantidad de los registros\n",
    "n = len(x)    \n",
    "\n",
    "# Sumatoria de las variables dependientes\n",
    "sum_x = sum(list_x)  \n",
    "\n",
    "# Sumatoria de las variables independientes\n",
    "sum_y = sum(list_y)   \n",
    "\n",
    "# Sumatoria de la multiplicación de las variables\n",
    "sum_xy = sum([x * y for x in list_x for y in list_y])   \n",
    "\n",
    "# Sumatoria de los cuadrados variable independiente \n",
    "sum_y2 = sum([y**2 for y in list_y])\n",
    "\n",
    "#Cuadrado de la sumatoria de la variable independiente\n",
    "sqr_sum_y = pow(sum_y, 2)"
   ]
  },
  {
   "cell_type": "code",
   "execution_count": 42,
   "metadata": {},
   "outputs": [
    {
     "name": "stdout",
     "output_type": "stream",
     "text": [
      "El valor n es: 4\n",
      "El valor de la sumatoria de la variable dependiente es: 65\n",
      "El valor de la sumatoria de la variable independiente es: 1812\n",
      "El valor de la sumatoria del producto de las variables es: 117780\n",
      "El valor de la sumatoria del cuadrado de la variable independiente: 830294\n",
      "El valor del cuadrado de la sumatoria de la variable independiente es: 3283344\n"
     ]
    }
   ],
   "source": [
    "print('El valor n es: {}'.format(n))\n",
    "print('El valor de la sumatoria de la variable dependiente es: {}'.format(sum_x))\n",
    "print('El valor de la sumatoria de la variable independiente es: {}'.format(sum_y))\n",
    "print('El valor de la sumatoria del producto de las variables es: {}'.format(sum_xy))\n",
    "print('El valor de la sumatoria del cuadrado de la variable independiente: {}'.format(sum_y2))\n",
    "print('El valor del cuadrado de la sumatoria de la variable independiente es: {}'.format(sqr_sum_y))"
   ]
  },
  {
   "cell_type": "code",
   "execution_count": 51,
   "metadata": {},
   "outputs": [
    {
     "name": "stdout",
     "output_type": "stream",
     "text": [
      "El valor de la pendiente es:\t-0.1440410917021667\n"
     ]
    }
   ],
   "source": [
    "b = (n * (sum_xy) - (sum_x * sum_y)) / (sum_y2 - sqr_sum_y)\n",
    "print('El valor de la pendiente es:\\t{}'.format(b))"
   ]
  },
  {
   "cell_type": "markdown",
   "metadata": {},
   "source": [
    "## Formula para cálcular la intersección"
   ]
  },
  {
   "cell_type": "markdown",
   "metadata": {},
   "source": [
    "a = X' - bt'\n",
    "\n",
    "Donde:\n",
    "\n",
    "* a: Es la intersección.\n",
    "* X': Es el promedio de los valores dependientes.\n",
    "* b: Es la pendiente.\n",
    "* t: Es el valor independiente."
   ]
  },
  {
   "cell_type": "code",
   "execution_count": null,
   "metadata": {},
   "outputs": [],
   "source": []
  }
 ],
 "metadata": {
  "kernelspec": {
   "display_name": "Python 3",
   "language": "python",
   "name": "python3"
  },
  "language_info": {
   "codemirror_mode": {
    "name": "ipython",
    "version": 3
   },
   "file_extension": ".py",
   "mimetype": "text/x-python",
   "name": "python",
   "nbconvert_exporter": "python",
   "pygments_lexer": "ipython3",
   "version": "3.6.4"
  }
 },
 "nbformat": 4,
 "nbformat_minor": 2
}
