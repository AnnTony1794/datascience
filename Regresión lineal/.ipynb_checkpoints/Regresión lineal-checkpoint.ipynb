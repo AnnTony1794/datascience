{
 "cells": [
  {
   "cell_type": "markdown",
   "metadata": {},
   "source": [
    "# Regresión lineal"
   ]
  },
  {
   "cell_type": "markdown",
   "metadata": {},
   "source": [
    "## Creanto la tabla "
   ]
  },
  {
   "cell_type": "markdown",
   "metadata": {},
   "source": [
    "> La tabla muestra la relación área vs precio para la compra de \n",
    "> terreno, y se busca predecir el precio por 35 metros cuadrados."
   ]
  },
  {
   "cell_type": "markdown",
   "metadata": {},
   "source": [
    "| n | Metros cuadrados (y) | Precio (x)  |\n",
    "|---|:--------| :-----:|\n",
    "| 1 |   5     | 375    |\n",
    "| 2 |   15    | 487    |\n",
    "| 3 |   20    | 450    |\n",
    "| 4 |   25    | 500    |"
   ]
  },
  {
   "cell_type": "code",
   "execution_count": 92,
   "metadata": {},
   "outputs": [],
   "source": [
    "list_y = [5, 15, 20, 25]\n",
    "list_x = [375, 487, 450, 500]"
   ]
  },
  {
   "cell_type": "code",
   "execution_count": 93,
   "metadata": {},
   "outputs": [
    {
     "data": {
      "text/plain": [
       "[375, 487, 450, 500]"
      ]
     },
     "execution_count": 93,
     "metadata": {},
     "output_type": "execute_result"
    }
   ],
   "source": [
    "list_x"
   ]
  },
  {
   "cell_type": "code",
   "execution_count": 94,
   "metadata": {},
   "outputs": [
    {
     "data": {
      "text/plain": [
       "[5, 15, 20, 25]"
      ]
     },
     "execution_count": 94,
     "metadata": {},
     "output_type": "execute_result"
    }
   ],
   "source": [
    "list_y"
   ]
  },
  {
   "cell_type": "markdown",
   "metadata": {},
   "source": [
    "## Formula de predicción "
   ]
  },
  {
   "cell_type": "markdown",
   "metadata": {},
   "source": [
    "![](https://ingenioempresa.com/wp-content/uploads/2016/02/regresion-lineal-yabx.png)"
   ]
  },
  {
   "cell_type": "markdown",
   "metadata": {},
   "source": [
    "## Formula para cálcular la pendiente"
   ]
  },
  {
   "cell_type": "markdown",
   "metadata": {},
   "source": [
    "![](http://1.bp.blogspot.com/-MzmgHJY-EUI/TpP6_yIJ1FI/AAAAAAAAAAU/zfFRGsiXcXg/s1600/2.jpg)"
   ]
  },
  {
   "cell_type": "markdown",
   "metadata": {},
   "source": [
    "### Donde:\n",
    "* b: Es la pendiente.\n",
    "* n: Es el número de registros.\n",
    "* x: Es el la variable que se quiere predecir.\n",
    "* y: Es el dato que sabemos."
   ]
  },
  {
   "cell_type": "code",
   "execution_count": 95,
   "metadata": {},
   "outputs": [],
   "source": [
    "# Cantidad de los registros\n",
    "n = len(list_x)    \n",
    "\n",
    "# Sumatoria de las variables dependientes\n",
    "sum_x = sum(list_x)  \n",
    "\n",
    "# Sumatoria de las variables independientes\n",
    "sum_y = sum(list_y)   \n",
    "\n",
    "# Sumatoria de la multiplicación de las variables\n",
    "sum_xy = sum([x*y for idx, x in enumerate(list_x) \n",
    "       for idy, y in enumerate(list_y)\n",
    "      if idx == idy])   \n",
    "\n",
    "# Sumatoria de los cuadrados variable independiente \n",
    "sum_y2 = sum([y**2 for y in list_y])\n",
    "\n",
    "#Cuadrado de la sumatoria de la variable independiente\n",
    "sqr_sum_y = pow(sum_y, 2)"
   ]
  },
  {
   "cell_type": "code",
   "execution_count": 96,
   "metadata": {},
   "outputs": [
    {
     "name": "stdout",
     "output_type": "stream",
     "text": [
      "El valor n es: 4\n",
      "El valor de la sumatoria de la variable dependiente es: 1812\n",
      "El valor de la sumatoria de la variable independiente es: 65\n",
      "El valor de la sumatoria del producto de las variables es: 30680\n",
      "El valor de la sumatoria del cuadrado de la variable independiente: 1275\n",
      "El valor del cuadrado de la sumatoria de la variable independiente es: 4225\n"
     ]
    }
   ],
   "source": [
    "print('El valor n es: {}'.format(n))\n",
    "print('El valor de la sumatoria de la variable dependiente es: {}'.format(sum_x))\n",
    "print('El valor de la sumatoria de la variable independiente es: {}'.format(sum_y))\n",
    "print('El valor de la sumatoria del producto de las variables es: {}'.format(sum_xy))\n",
    "print('El valor de la sumatoria del cuadrado de la variable independiente: {}'.format(sum_y2))\n",
    "print('El valor del cuadrado de la sumatoria de la variable independiente es: {}'.format(sqr_sum_y))"
   ]
  },
  {
   "cell_type": "code",
   "execution_count": 97,
   "metadata": {},
   "outputs": [
    {
     "name": "stdout",
     "output_type": "stream",
     "text": [
      "El valor de la pendiente es:\t5.645714285714286\n"
     ]
    }
   ],
   "source": [
    "b = ((n * sum_xy) - (sum_x * sum_y)) / (4 * sum_y2 - sqr_sum_y)\n",
    "print('El valor de la pendiente es:\\t{}'.format(b))"
   ]
  },
  {
   "cell_type": "markdown",
   "metadata": {},
   "source": [
    "## Formula para cálcular la intersección"
   ]
  },
  {
   "cell_type": "markdown",
   "metadata": {},
   "source": [
    "a = X' - bt'\n",
    "\n",
    "Donde:\n",
    "\n",
    "* a: Es la intersección.\n",
    "* X': Es el promedio de los valores dependientes.\n",
    "* b: Es la pendiente.\n",
    "* t: Es el valor independiente."
   ]
  },
  {
   "cell_type": "code",
   "execution_count": 98,
   "metadata": {},
   "outputs": [
    {
     "name": "stdout",
     "output_type": "stream",
     "text": [
      "5.645714285714286\n",
      "16.25\n",
      "453.0\n"
     ]
    }
   ],
   "source": [
    "# Promedio de la variable dependinte\n",
    "mean_x = sum_x / n\n",
    "\n",
    "# Promedio de la variable independiencte\n",
    "mean_y = sum_y / n \n",
    "\n",
    "print(b)\n",
    "print(mean_y)\n",
    "print(mean_x)"
   ]
  },
  {
   "cell_type": "code",
   "execution_count": 99,
   "metadata": {},
   "outputs": [
    {
     "data": {
      "text/plain": [
       "361.25714285714287"
      ]
     },
     "execution_count": 99,
     "metadata": {},
     "output_type": "execute_result"
    }
   ],
   "source": [
    "a = mean_x - (b * mean_y)\n",
    "a"
   ]
  },
  {
   "cell_type": "code",
   "execution_count": 105,
   "metadata": {},
   "outputs": [
    {
     "name": "stdout",
     "output_type": "stream",
     "text": [
      "El valor de predicción para 35 metros cuadrados es:  558.8571428571429\n"
     ]
    }
   ],
   "source": [
    "xt = a + b * 35\n",
    "print('El valor de predicción para 35 metros cuadrados es:  {}'\n",
    "      .format(xt))"
   ]
  }
 ],
 "metadata": {
  "kernelspec": {
   "display_name": "Python 3",
   "language": "python",
   "name": "python3"
  },
  "language_info": {
   "codemirror_mode": {
    "name": "ipython",
    "version": 3
   },
   "file_extension": ".py",
   "mimetype": "text/x-python",
   "name": "python",
   "nbconvert_exporter": "python",
   "pygments_lexer": "ipython3",
   "version": "3.6.4"
  }
 },
 "nbformat": 4,
 "nbformat_minor": 2
}
